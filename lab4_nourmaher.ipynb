{
 "cells": [
  {
   "cell_type": "code",
   "execution_count": null,
   "id": "0abc63dd",
   "metadata": {},
   "outputs": [],
   "source": [
    "#nour Maher AIE 221101140"
   ]
  },
  {
   "cell_type": "code",
   "execution_count": 2,
   "metadata": {},
   "outputs": [],
   "source": [
    "import numpy as np\n",
    "def pearson_correlation(user1, user2):\n",
    "\n",
    "    mask = []\n",
    "    for i in range(len(user1)):\n",
    "        if user1[i] != 0 and user2[i] != 0:\n",
    "            mask.append(i)\n",
    "\n",
    "    if len(mask) == 0:\n",
    "        return 0\n",
    "\n",
    "    u1 = [user1[i] for i in mask]\n",
    "    u2 = [user2[i] for i in mask]\n",
    "\n",
    "    sum1 = 0\n",
    "    sum2 = 0\n",
    "    for i in range(len(u1)):\n",
    "        sum1 += u1[i]\n",
    "        sum2 += u2[i]\n",
    "\n",
    "    mean1 = sum1 / len(u1)\n",
    "    mean2 = sum2 / len(u2)\n",
    "\n",
    "    dev1 = []\n",
    "    dev2 = []\n",
    "    for i in range(len(u1)):\n",
    "        dev1.append(u1[i] - mean1)\n",
    "        dev2.append(u2[i] - mean2)\n",
    "        \n",
    "\n",
    "    numerator = 0\n",
    "    for i in range(len(dev1)):\n",
    "        numerator+=dev1[i]*dev2[i]\n",
    "\n",
    "    sum_sq1 = 0\n",
    "    sum_sq2 = 0\n",
    "    for i in range(len(dev1)):\n",
    "        sum_sq1 += dev1[i] ** 2\n",
    "        sum_sq2 += dev2[i] ** 2\n",
    "\n",
    "    denominator = (sum_sq1 ** 0.5) * (sum_sq2 ** 0.5)\n",
    "\n",
    "    if denominator == 0:\n",
    "        return 0\n",
    "\n",
    "    return numerator / denominator"
   ]
  },
  {
   "cell_type": "code",
   "execution_count": 3,
   "id": "08a22e6b",
   "metadata": {},
   "outputs": [
    {
     "name": "stdout",
     "output_type": "stream",
     "text": [
      "Pearson Correlation: 0.775\n"
     ]
    }
   ],
   "source": [
    "\n",
    "user_A = np.array([5, 3, 0, 4, 0, 2])\n",
    "user_C = np.array([4, 3, 4, 3, 5, 3])\n",
    "\n",
    "correlation = pearson_correlation(user_A, user_C)\n",
    "print(f\"Pearson Correlation: {correlation:.3f}\")"
   ]
  }
 ],
 "metadata": {
  "kernelspec": {
   "display_name": "Python 3",
   "language": "python",
   "name": "python3"
  },
  "language_info": {
   "codemirror_mode": {
    "name": "ipython",
    "version": 3
   },
   "file_extension": ".py",
   "mimetype": "text/x-python",
   "name": "python",
   "nbconvert_exporter": "python",
   "pygments_lexer": "ipython3",
   "version": "3.10.5"
  }
 },
 "nbformat": 4,
 "nbformat_minor": 5
}
